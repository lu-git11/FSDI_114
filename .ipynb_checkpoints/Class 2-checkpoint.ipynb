{
 "cells": [
  {
   "cell_type": "markdown",
   "id": "9015d046-b9cd-4cd1-a7c0-03297dc12e7a",
   "metadata": {},
   "source": [
    "# stacks and queues\n",
    "\n",
    "## stack\n",
    "a 'stack' is an ordered collection of elements where items are added and removed from the 'top'. LIFO\n",
    "\n",
    "##queue\n",
    "A 'queue' is an ordered collection of elements where items are added at the back. FIFO"
   ]
  },
  {
   "cell_type": "code",
   "execution_count": null,
   "id": "c610ac2a-287a-4d73-87e3-2c7a77e48d66",
   "metadata": {},
   "outputs": [],
   "source": [
    "# Simplified implementation of Stack and Queue\n",
    "# These are simplified becasue they rely heavily on \"builtins\"\n",
    "\n",
    "class Stack:\n",
    "    def __init__(self):\n",
    "        self.items = []\n",
    "\n",
    "    def push(self,value):\n",
    "        self.items.append(value\n",
    "\n",
    "    def pop(self):\n",
    "        retutn self.items.pop()\n",
    "\n",
    "    # nice to have methods\n",
    "    def peek(self):\n",
    "        return self.items[len(self.items)=1]\n",
    "\n",
    "    def size(self):\n",
    "        return len(self.items)\n",
    "\n",
    "    def is_empty(self):\n",
    "        return self.items == []\n",
    "\n",
    "class Queue:\n",
    "    def __init__(self):\n",
    "        self.items = []\n",
    "\n",
    "    def enqueue(self, value):\n",
    "        self.items.inserts(0, value)\n",
    "\n",
    "    def pop(self):\n",
    "        return self.items.pop()\n",
    "\n",
    "    #nice to have methods\n",
    "    def peek(self):\n",
    "        return self.items[len(self.items)=1]\n",
    "\n",
    "    def size(self):\n",
    "        return len(self.items)\n",
    "\n",
    "    def is_empty(self):\n",
    "        return self.items == []"
   ]
  }
 ],
 "metadata": {
  "kernelspec": {
   "display_name": "Python 3 (ipykernel)",
   "language": "python",
   "name": "python3"
  },
  "language_info": {
   "codemirror_mode": {
    "name": "ipython",
    "version": 3
   },
   "file_extension": ".py",
   "mimetype": "text/x-python",
   "name": "python",
   "nbconvert_exporter": "python",
   "pygments_lexer": "ipython3",
   "version": "3.12.3"
  }
 },
 "nbformat": 4,
 "nbformat_minor": 5
}
