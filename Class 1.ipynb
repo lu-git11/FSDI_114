{
 "cells": [
  {
   "cell_type": "code",
   "execution_count": 1,
   "id": "5497a192-37e7-4842-b69c-de2bd0da7f63",
   "metadata": {},
   "outputs": [
    {
     "name": "stdout",
     "output_type": "stream",
     "text": [
      "h\n",
      "e\n",
      "l\n",
      "l\n",
      "o\n",
      " \n",
      "w\n",
      "o\n",
      "r\n",
      "l\n",
      "d\n"
     ]
    }
   ],
   "source": [
    "for char in \"hello world\":\n",
    "    print(char)\n",
    "\n",
    "  # press shift+enter  "
   ]
  },
  {
   "cell_type": "markdown",
   "id": "a6380b5b-835f-4277-b881-788d508e79b2",
   "metadata": {},
   "source": [
    "# problem 1\n",
    "\n",
    "Given a pair of strings, determine if these strings are anagrams of each other. return true if they are, false otherwise\n",
    "\n",
    "## criteria\n",
    "\n",
    "two strings are said to be anagrams of wach other if all the criteria below are met :\n",
    "1. they must use the same letters, the same amount of times\n",
    "2. they must be equal in length.\n",
    "\n",
    "## examples\n",
    "```\n",
    "earth and heart\n",
    "cars and scar\n",
    "rats and star\n",
    "etc\n",
    "```"
   ]
  },
  {
   "cell_type": "code",
   "execution_count": null,
   "id": "ccdf3295-9786-471b-872c-6b7a2038e57e",
   "metadata": {},
   "outputs": [],
   "source": [
    "# define my function \"anagram_check\" with parameters: string1 and string2 :\n",
    "# string1 = string1 without spaces and in lower case\n",
    "# string2 =s2 without spaces and in lower case\n",
    "# if the length of s1 is not equal to the length of s2:\n",
    "#    return false\n",
    "# otherwise(else):\n",
    "#     d1 = new dictionary\n",
    "#     d2 = new dictionary\n",
    "#     for each number in the range from 0 to the length of s1:\n",
    "#        if the char at position \"number\" in s1 is in d1:\n",
    "#           add 1 to the number of times ive seen that character in d1\n",
    "#        otherwise:\n",
    "#           create a new entry for that character in d1 and set the value to 1\n",
    "#         if the character at position \"number\" in s2 is in d2:\n",
    "#            add 1 to the number of times ive seen tha char in d2\n",
    "#         otherwise:\n",
    "#            create a new entry for that character in d2 and set the value to 1\n",
    "#     if d1 is equal to d2:\n",
    "#          return true\n",
    "#     otherwise :\n",
    "#          return false\n",
    "\n",
    "def anagram_check(s1, s2)\n",
    "s1 = (s1.replace(\" \", \"\")).lower()\n",
    "s2 = (s2.replace(\" \", \"\")).lower()\n",
    "                 if len(s1) == len(s2)\n",
    "                 return False\n",
    "\n",
    "                d1 ={}\n",
    "                d2 = {}\n",
    "for i in range(len(s1)):\n",
    "\n",
    "    if s1[i] in d1:\n",
    "        d1[s1[i]] += 1\n",
    "else:\n",
    "    d1[s1[i]] = 1\n",
    "\n",
    "     if s2[i] in d2:\n",
    "        d2[s2[i]] += 1\n",
    "else:\n",
    "    d2[s2[i]] = 1\n",
    "\n",
    "return d1 == d2\n",
    "\n",
    "anagram_check(\"earth\",\"heart\")\n",
    "\n",
    "        "
   ]
  }
 ],
 "metadata": {
  "kernelspec": {
   "display_name": "Python 3 (ipykernel)",
   "language": "python",
   "name": "python3"
  },
  "language_info": {
   "codemirror_mode": {
    "name": "ipython",
    "version": 3
   },
   "file_extension": ".py",
   "mimetype": "text/x-python",
   "name": "python",
   "nbconvert_exporter": "python",
   "pygments_lexer": "ipython3",
   "version": "3.12.3"
  }
 },
 "nbformat": 4,
 "nbformat_minor": 5
}
