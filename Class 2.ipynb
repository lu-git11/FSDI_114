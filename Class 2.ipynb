{
 "cells": [
  {
   "cell_type": "markdown",
   "id": "9015d046-b9cd-4cd1-a7c0-03297dc12e7a",
   "metadata": {},
   "source": [
    "# stacks and queues\n",
    "\n",
    "## stack\n",
    "a 'stack' is an ordered collection of elements where items are added and removed from the 'top'. LIFO\n",
    "\n",
    "##queue\n",
    "A 'queue' is an ordered collection of elements where items are added at the back. FIFO"
   ]
  },
  {
   "cell_type": "code",
   "execution_count": 5,
   "id": "c610ac2a-287a-4d73-87e3-2c7a77e48d66",
   "metadata": {},
   "outputs": [],
   "source": [
    "# Simplified implementation of Stack and Queue\n",
    "# These are simplified becasue they rely heavily on \"builtins\"\n",
    "\n",
    "class Stack:\n",
    "    def __init__(self):\n",
    "        self.items = []\n",
    "\n",
    "    def push(self, value):\n",
    "        self.items.append(value)\n",
    "\n",
    "    def pop(self):\n",
    "        return self.items.pop()\n",
    "\n",
    "    # nice to have methods\n",
    "    def peek(self):\n",
    "        return self.items[len(self.items)-1]\n",
    "\n",
    "    def size(self):\n",
    "        return len(self.items)\n",
    "\n",
    "    def is_empty(self):\n",
    "        return self.items == []\n",
    "\n",
    "class Queue:\n",
    "    def __init__(self):\n",
    "        self.items = []\n",
    "\n",
    "    def enqueue(self, value):\n",
    "        self.items.inserts(0, value)\n",
    "\n",
    "    def dequeue(self):\n",
    "        return self.items.pop()\n",
    "\n",
    "    #nice to have methods\n",
    "    def peek(self):\n",
    "        return self.items[len(self.items)-1]\n",
    "\n",
    "    def size(self):\n",
    "        return len(self.items)\n",
    "\n",
    "    def is_empty(self):\n",
    "        return self.items == []"
   ]
  },
  {
   "cell_type": "code",
   "execution_count": 6,
   "id": "b17ff0c8-b5c9-45a8-a50c-a7931d9923bf",
   "metadata": {},
   "outputs": [],
   "source": [
    "def invert_str(mystring):\n",
    "    stack = Stack()\n",
    "    for char in mystring:\n",
    "        stack.push(char)\n",
    "    out = \"\"\n",
    "    while not stack.is_empty():\n",
    "        out += stack.pop()\n",
    "    return out"
   ]
  },
  {
   "cell_type": "code",
   "execution_count": 7,
   "id": "fa6cd698-02a4-4f0f-8297-661e64579c73",
   "metadata": {},
   "outputs": [
    {
     "data": {
      "text/plain": [
       "'ffej'"
      ]
     },
     "execution_count": 7,
     "metadata": {},
     "output_type": "execute_result"
    }
   ],
   "source": [
    "invert_str(\"jeff\")"
   ]
  },
  {
   "cell_type": "code",
   "execution_count": 12,
   "id": "951e4e34-de51-4008-bb3c-0451a44fa778",
   "metadata": {},
   "outputs": [],
   "source": [
    "# from scratch implementation of stack (no built-ins)\n",
    "\n",
    "class StackII:\n",
    "    class __Node:\n",
    "        def __init__(self, datum):\n",
    "            self.data = datum\n",
    "            self.below = None\n",
    "\n",
    "    def __init__(self):\n",
    "        self.top = None\n",
    "        self.count = 0\n",
    "\n",
    "    def push(self, value):\n",
    "        new_node = self.__Node(value)\n",
    "        if not self.top:\n",
    "            self.top = new_node\n",
    "        else:\n",
    "            new_node.below = self.top\n",
    "            self.top = new_node\n",
    "        self.count += 1\n",
    "            \n",
    "\n",
    "    def pop(self):\n",
    "        if self.top:\n",
    "            backup = self.top.data\n",
    "            self.top = self.top.below\n",
    "            return backup\n",
    "        raise IndexError(\"Stack is empty\")\n",
    "        self.count -= 1\n",
    "\n",
    "    #nice to have methods\n",
    "    def peek(self):\n",
    "        if self.top:\n",
    "            return self.top.data\n",
    "        raise IndexError(\"stack is empty\")\n",
    "\n",
    "    def size(self):\n",
    "        return self.count\n",
    "\n",
    "    def is_empty(self):\n",
    "        return self.top == None"
   ]
  },
  {
   "cell_type": "markdown",
   "id": "3fa36501-9216-42b2-ab0e-d0a8c25932e0",
   "metadata": {},
   "source": [
    "# problem 1\n",
    "\n",
    "optimize the 'size' operations for stackII such that it has a worst case time cimplexity of 0(1). you can make changes to any part of the stackII class to achieve this. (even multiple locations)\n",
    "\n",
    "# problem 2\n",
    "implement a 'Queue2' class, which is a _from scratch_ implementation of queue, not relying on built-ins. it should at a minimum, have an embedded 'node' class, an enqueue method  (with 0(1) time complexity) and a dequeue method (with 0(1) time complexity). bonus points if you add peek, size and is_empty (and size has 0(1) time complexity.\n",
    "\n",
    "# problem 3\n",
    "1.test your classes. for example , redesign the 'invert_str'  to use 'stackII' instead of 'stack'. Check whether it inverts strings.\n",
    "2.how can you display the full contents of stackII and queueII? overeride the '__str__' method of both of these so that it allos you to see your full contents."
   ]
  },
  {
   "cell_type": "code",
   "execution_count": null,
   "id": "88179ce5-b1ef-4420-abb2-5c78c14b4208",
   "metadata": {},
   "outputs": [],
   "source": []
  },
  {
   "cell_type": "code",
   "execution_count": 7,
   "id": "e26b6745-ea2f-450a-8f81-a08dfe5b8379",
   "metadata": {},
   "outputs": [],
   "source": [
    "# from scratch implementation of stack (no built-ins)\n",
    "\n",
    "class QueueII:\n",
    "    class __Node:\n",
    "        def __init__(self, data):\n",
    "            self.data = data\n",
    "            self.below = None\n",
    "\n",
    "    def __init__(self):\n",
    "        self.tail =None\n",
    "        self.head = None\n",
    "        self.count = 0\n",
    "\n",
    "    def enqueue(self, data):\n",
    "        new_node = Node(data)\n",
    "        if not self.tail:\n",
    "            self.head = new_node\n",
    "            self.tail = new_node\n",
    "        else:\n",
    "            self.tail.below = new_node\n",
    "            self.tail = new_node\n",
    "        self.count += 1\n",
    "\n",
    "    def dequeue(self):\n",
    "        if not self.head:\n",
    "            backup = self.head.data\n",
    "            self.head = self.head.below\n",
    "            self.count -= 1\n",
    "            return backup\n",
    "        raise IndexError(\"No element in queue\")\n",
    "\n",
    "    #nice to have methods\n",
    "    def peek(self):\n",
    "        if self.top:\n",
    "            return self.head.data\n",
    "        return (\"No element in queue\")\n",
    "\n",
    "    def size(self):\n",
    "        return len(self.items)\n",
    "\n",
    "    def is_empty(self):\n",
    "        return len(self.items) == None\n",
    "\n",
    "    def __str__(self):\n",
    "        elements = []\n",
    "        current = self.head\n",
    "        while current:\n",
    "            elements.append(str(current.data))\n",
    "            current = current.next\n",
    "        return \"[\" + \", \".join(elements) + \"]\""
   ]
  },
  {
   "cell_type": "code",
   "execution_count": 5,
   "id": "f408fcdc-cf02-4f54-a18c-b191cf4d04f0",
   "metadata": {},
   "outputs": [
    {
     "data": {
      "text/plain": [
       "<__main__.QueueII at 0x790341b840b0>"
      ]
     },
     "execution_count": 5,
     "metadata": {},
     "output_type": "execute_result"
    }
   ],
   "source": [
    "QueueII()\n"
   ]
  }
 ],
 "metadata": {
  "kernelspec": {
   "display_name": "Python 3 (ipykernel)",
   "language": "python",
   "name": "python3"
  },
  "language_info": {
   "codemirror_mode": {
    "name": "ipython",
    "version": 3
   },
   "file_extension": ".py",
   "mimetype": "text/x-python",
   "name": "python",
   "nbconvert_exporter": "python",
   "pygments_lexer": "ipython3",
   "version": "3.12.3"
  }
 },
 "nbformat": 4,
 "nbformat_minor": 5
}
